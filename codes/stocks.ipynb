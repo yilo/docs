{
 "cells": [
  {
   "cell_type": "code",
   "execution_count": 19,
   "metadata": {},
   "outputs": [
    {
     "name": "stdout",
     "output_type": "stream",
     "text": [
      "[*********************100%***********************]  1 of 1 completed\n",
      "3.0920000076293945\n",
      "3.1459999084472656\n"
     ]
    }
   ],
   "source": [
    "import yfinance as yf\n",
    "\n",
    "from pandas_datareader import data as pdr\n",
    "\n",
    "yf.pdr_override() # <== that's all it takes :-)\n",
    "\n",
    "data = pdr.get_data_yahoo(\"510180.SS\", start=\"2022-01-01\", end=\"2022-12-30\",interval=\"1d\")\n",
    "\n",
    "print(data['Low'].min())\n",
    "\n",
    "print(data['High'].min())\n",
    "\n"
   ]
  },
  {
   "cell_type": "code",
   "execution_count": null,
   "metadata": {},
   "outputs": [],
   "source": []
  }
 ],
 "metadata": {
  "kernelspec": {
   "display_name": ".venv",
   "language": "python",
   "name": "python3"
  },
  "language_info": {
   "codemirror_mode": {
    "name": "ipython",
    "version": 3
   },
   "file_extension": ".py",
   "mimetype": "text/x-python",
   "name": "python",
   "nbconvert_exporter": "python",
   "pygments_lexer": "ipython3",
   "version": "3.11.1"
  },
  "orig_nbformat": 4,
  "vscode": {
   "interpreter": {
    "hash": "fcc2e916544a969edd5ee4db449aec4fffe139512333787492066cd241ea4e5c"
   }
  }
 },
 "nbformat": 4,
 "nbformat_minor": 2
}
